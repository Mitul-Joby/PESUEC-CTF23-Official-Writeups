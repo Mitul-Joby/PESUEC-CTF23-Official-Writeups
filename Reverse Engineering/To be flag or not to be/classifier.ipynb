{
  "nbformat": 4,
  "nbformat_minor": 0,
  "metadata": {
    "colab": {
      "provenance": []
    },
    "kernelspec": {
      "name": "python3",
      "display_name": "Python 3"
    },
    "language_info": {
      "name": "python"
    }
  },
  "cells": [
    {
      "cell_type": "code",
      "execution_count": 1,
      "metadata": {
        "id": "BS3rzrmAhkmD"
      },
      "outputs": [],
      "source": [
        "import numpy as np\n",
        "import tensorflow as tf\n",
        "from tensorflow import keras\n",
        "from tensorflow.keras import layers\n",
        "import cv2"
      ]
    },
    {
      "cell_type": "code",
      "source": [
        "flag_image = cv2.imread('/content/flag.png', cv2.IMREAD_GRAYSCALE)\n",
        "flag_image = tf.cast(flag_image, tf.float32) / 255.0\n",
        "\n",
        "num_samples = 1000\n",
        "image_shape = (256, 256)\n",
        "random_images = np.random.randint(0, 2, size=(num_samples, *image_shape))\n",
        "labels = np.zeros(num_samples)\n",
        "\n",
        "for x in range(400):\n",
        "  flag_index = np.random.randint(num_samples)\n",
        "  random_images[flag_index] = flag_image\n",
        "  labels[flag_index] = 1\n",
        "\n",
        "split_ratio = 0.8\n",
        "split_idx = int(num_samples * split_ratio)\n",
        "x_train, x_val = random_images[:split_idx], random_images[split_idx:]\n",
        "y_train, y_val = labels[:split_idx], labels[split_idx:]"
      ],
      "metadata": {
        "id": "KLttC7SgoRrK"
      },
      "execution_count": 2,
      "outputs": []
    },
    {
      "cell_type": "code",
      "source": [
        "model = keras.Sequential([\n",
        "    layers.Dense(256, activation='relu', input_shape=(256, 256, 1)),\n",
        "    layers.Flatten(),\n",
        "    layers.Dense(1, activation='sigmoid')\n",
        "])\n",
        "\n",
        "model.compile(optimizer='adam', loss='binary_crossentropy', metrics=['accuracy'])\n",
        "\n",
        "model.summary()"
      ],
      "metadata": {
        "colab": {
          "base_uri": "https://localhost:8080/"
        },
        "id": "DAtRyIYYnXNq",
        "outputId": "0a3bdf41-5d5e-469c-c969-47095120ba92"
      },
      "execution_count": 3,
      "outputs": [
        {
          "output_type": "stream",
          "name": "stdout",
          "text": [
            "Model: \"sequential\"\n",
            "_________________________________________________________________\n",
            " Layer (type)                Output Shape              Param #   \n",
            "=================================================================\n",
            " dense (Dense)               (None, 256, 256, 256)     512       \n",
            "                                                                 \n",
            " flatten (Flatten)           (None, 16777216)          0         \n",
            "                                                                 \n",
            " dense_1 (Dense)             (None, 1)                 16777217  \n",
            "                                                                 \n",
            "=================================================================\n",
            "Total params: 16,777,729\n",
            "Trainable params: 16,777,729\n",
            "Non-trainable params: 0\n",
            "_________________________________________________________________\n"
          ]
        }
      ]
    },
    {
      "cell_type": "code",
      "source": [
        "model.fit(x_train, y_train, epochs=10, batch_size=32, validation_data=(x_val, y_val))"
      ],
      "metadata": {
        "colab": {
          "base_uri": "https://localhost:8080/"
        },
        "id": "Qulren6o7jH5",
        "outputId": "bfb59d53-bdc9-4bc7-bd15-c6d237408f4c"
      },
      "execution_count": 4,
      "outputs": [
        {
          "output_type": "stream",
          "name": "stdout",
          "text": [
            "Epoch 1/10\n",
            "25/25 [==============================] - 188s 7s/step - loss: 40.9114 - accuracy: 0.5825 - val_loss: 5.8213 - val_accuracy: 0.7000\n",
            "Epoch 2/10\n",
            "25/25 [==============================] - 183s 7s/step - loss: 0.1777 - accuracy: 0.9875 - val_loss: 1.0812e-05 - val_accuracy: 1.0000\n",
            "Epoch 3/10\n",
            "25/25 [==============================] - 191s 8s/step - loss: 5.0160e-07 - accuracy: 1.0000 - val_loss: 1.0381e-08 - val_accuracy: 1.0000\n",
            "Epoch 4/10\n",
            "25/25 [==============================] - 181s 7s/step - loss: 7.5149e-09 - accuracy: 1.0000 - val_loss: 5.7326e-09 - val_accuracy: 1.0000\n",
            "Epoch 5/10\n",
            "25/25 [==============================] - 182s 7s/step - loss: 6.1674e-09 - accuracy: 1.0000 - val_loss: 5.4581e-09 - val_accuracy: 1.0000\n",
            "Epoch 6/10\n",
            "25/25 [==============================] - 192s 8s/step - loss: 6.0783e-09 - accuracy: 1.0000 - val_loss: 5.4365e-09 - val_accuracy: 1.0000\n",
            "Epoch 7/10\n",
            "25/25 [==============================] - 185s 7s/step - loss: 6.0679e-09 - accuracy: 1.0000 - val_loss: 5.4344e-09 - val_accuracy: 1.0000\n",
            "Epoch 8/10\n",
            "25/25 [==============================] - 178s 7s/step - loss: 6.0665e-09 - accuracy: 1.0000 - val_loss: 5.4341e-09 - val_accuracy: 1.0000\n",
            "Epoch 9/10\n",
            "25/25 [==============================] - 187s 8s/step - loss: 6.0662e-09 - accuracy: 1.0000 - val_loss: 5.4339e-09 - val_accuracy: 1.0000\n",
            "Epoch 10/10\n",
            "25/25 [==============================] - 181s 7s/step - loss: 6.0657e-09 - accuracy: 1.0000 - val_loss: 5.4334e-09 - val_accuracy: 1.0000\n"
          ]
        },
        {
          "output_type": "execute_result",
          "data": {
            "text/plain": [
              "<keras.callbacks.History at 0x7bd5fa9c39d0>"
            ]
          },
          "metadata": {},
          "execution_count": 4
        }
      ]
    },
    {
      "cell_type": "code",
      "source": [
        "model.evaluate(x_train, y_train)"
      ],
      "metadata": {
        "colab": {
          "base_uri": "https://localhost:8080/"
        },
        "id": "c5DkkDyWqH13",
        "outputId": "b48e9f83-53dc-422b-9e2e-c70091643086"
      },
      "execution_count": 5,
      "outputs": [
        {
          "output_type": "stream",
          "name": "stdout",
          "text": [
            "25/25 [==============================] - 67s 3s/step - loss: 6.0653e-09 - accuracy: 1.0000\n"
          ]
        },
        {
          "output_type": "execute_result",
          "data": {
            "text/plain": [
              "[6.065263846721791e-09, 1.0]"
            ]
          },
          "metadata": {},
          "execution_count": 5
        }
      ]
    },
    {
      "cell_type": "code",
      "source": [
        "from tensorflow.keras.preprocessing.image import load_img, img_to_array\n",
        "import numpy as np\n",
        "\n",
        "img = np.random.randint(0, 256, size=(256, 256), dtype=np.uint8)\n",
        "img_array = img_to_array(img)\n",
        "preprocessed_img = tf.cast(img_array, tf.float32) / 255.0\n",
        "preprocessed_img = np.expand_dims(preprocessed_img, axis=0)\n",
        "\n",
        "prediction = model.predict(preprocessed_img)\n",
        "print(prediction)"
      ],
      "metadata": {
        "id": "tLi9Cxb6slFE",
        "colab": {
          "base_uri": "https://localhost:8080/"
        },
        "outputId": "971dbf91-c90e-4732-fb10-55c975ca8528"
      },
      "execution_count": 6,
      "outputs": [
        {
          "output_type": "stream",
          "name": "stdout",
          "text": [
            "1/1 [==============================] - 0s 300ms/step\n",
            "[[6.640936e-08]]\n"
          ]
        }
      ]
    },
    {
      "cell_type": "code",
      "source": [
        "model.save('model.h5')"
      ],
      "metadata": {
        "id": "IbFJ4hLS5PZ3"
      },
      "execution_count": 7,
      "outputs": []
    }
  ]
}